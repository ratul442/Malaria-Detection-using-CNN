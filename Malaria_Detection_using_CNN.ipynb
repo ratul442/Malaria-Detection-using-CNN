{
  "nbformat": 4,
  "nbformat_minor": 0,
  "metadata": {
    "colab": {
      "name": "Malaria Detection using CNN.ipynb",
      "provenance": []
    },
    "kernelspec": {
      "name": "python3",
      "display_name": "Python 3"
    }
  },
  "cells": [
    {
      "cell_type": "code",
      "metadata": {
        "colab": {
          "base_uri": "https://localhost:8080/"
        },
        "id": "mo2eZRnmBwyA",
        "outputId": "cf1cb9a5-6182-4be4-8a66-92c9c57ef954"
      },
      "source": [
        "import tensorflow as tf\r\n",
        "import matplotlib.pyplot as plt\r\n",
        "from tensorflow.keras import Sequential\r\n",
        "from tensorflow.keras.layers import Flatten, Dense, Conv2D, MaxPool2D, Dropout\r\n",
        "from tensorflow.keras.preprocessing.image import ImageDataGenerator\r\n",
        "\r\n",
        "print(tf.__version__)"
      ],
      "execution_count": 14,
      "outputs": [
        {
          "output_type": "stream",
          "text": [
            "2.4.0\n"
          ],
          "name": "stdout"
        }
      ]
    },
    {
      "cell_type": "code",
      "metadata": {
        "colab": {
          "base_uri": "https://localhost:8080/"
        },
        "id": "gJMlbs3XB37b",
        "outputId": "9586f170-1214-4d38-d1fa-73da8d1438c4"
      },
      "source": [
        "!git clone https://github.com/ratul442/Malaria-Classification-Using-CNN.git"
      ],
      "execution_count": 2,
      "outputs": [
        {
          "output_type": "stream",
          "text": [
            "Cloning into 'Malaria-Classification-Using-CNN'...\n",
            "remote: Enumerating objects: 27577, done.\u001b[K\n",
            "remote: Total 27577 (delta 0), reused 0 (delta 0), pack-reused 27577\u001b[K\n",
            "Receiving objects: 100% (27577/27577), 331.67 MiB | 46.67 MiB/s, done.\n",
            "Resolving deltas: 100% (3/3), done.\n",
            "Checking out files: 100% (27562/27562), done.\n"
          ],
          "name": "stdout"
        }
      ]
    },
    {
      "cell_type": "code",
      "metadata": {
        "id": "rrFu4FnqChB_"
      },
      "source": [
        "img_width = 64\r\n",
        "img_height = 64\r\n",
        "\r\n",
        "datagen = ImageDataGenerator(rescale=1/255.0, validation_split=0.2)"
      ],
      "execution_count": 3,
      "outputs": []
    },
    {
      "cell_type": "code",
      "metadata": {
        "colab": {
          "base_uri": "https://localhost:8080/"
        },
        "id": "BAbuIErVC1VC",
        "outputId": "fbe1c68f-7cbd-4a7d-b5ec-04f727c4da60"
      },
      "source": [
        "train_data_generator = datagen.flow_from_directory(directory='/content/Malaria-Classification-Using-CNN/malaria-dataset',target_size = (img_width, img_height),\r\n",
        "class_mode = 'binary',batch_size = 16,subset = 'training')"
      ],
      "execution_count": 4,
      "outputs": [
        {
          "output_type": "stream",
          "text": [
            "Found 22048 images belonging to 2 classes.\n"
          ],
          "name": "stdout"
        }
      ]
    },
    {
      "cell_type": "code",
      "metadata": {
        "colab": {
          "base_uri": "https://localhost:8080/"
        },
        "id": "aRJp4_VjDC0I",
        "outputId": "12126126-5019-4a78-f1ef-e85dd5e2f4fc"
      },
      "source": [
        "validation_data_generator = datagen.flow_from_directory(directory='/content/Malaria-Classification-Using-CNN/malaria-dataset',target_size = (img_width, img_height),\r\n",
        "class_mode = 'binary',batch_size = 16,subset = 'validation')"
      ],
      "execution_count": 5,
      "outputs": [
        {
          "output_type": "stream",
          "text": [
            "Found 5510 images belonging to 2 classes.\n"
          ],
          "name": "stdout"
        }
      ]
    },
    {
      "cell_type": "code",
      "metadata": {
        "id": "1a4Br-_bDO9E"
      },
      "source": [
        "model = Sequential()\r\n",
        "\r\n",
        "model.add(Conv2D(16, (3,3), input_shape = (img_width, img_height, 3), activation='relu')) #giving the input shape as 3D (64*64*3)\r\n",
        "model.add(MaxPool2D(2,2))\r\n",
        "model.add(Dropout(0.2))\r\n",
        "model.add(Conv2D(32, (3,3), activation='relu'))\r\n",
        "model.add(MaxPool2D(2,2))\r\n",
        "model.add(Dropout(0.3))\r\n",
        "model.add(Flatten())\r\n",
        "model.add(Dense(64, activation='relu'))\r\n",
        "model.add(Dropout(0.5))\r\n",
        "model.add(Dense(1, activation='sigmoid'))"
      ],
      "execution_count": 6,
      "outputs": []
    },
    {
      "cell_type": "code",
      "metadata": {
        "colab": {
          "base_uri": "https://localhost:8080/"
        },
        "id": "_jtMc9qpDers",
        "outputId": "f32fa77e-cd82-4136-f67c-ba83760b87d5"
      },
      "source": [
        "model.summary()"
      ],
      "execution_count": 7,
      "outputs": [
        {
          "output_type": "stream",
          "text": [
            "Model: \"sequential\"\n",
            "_________________________________________________________________\n",
            "Layer (type)                 Output Shape              Param #   \n",
            "=================================================================\n",
            "conv2d (Conv2D)              (None, 62, 62, 16)        448       \n",
            "_________________________________________________________________\n",
            "max_pooling2d (MaxPooling2D) (None, 31, 31, 16)        0         \n",
            "_________________________________________________________________\n",
            "dropout (Dropout)            (None, 31, 31, 16)        0         \n",
            "_________________________________________________________________\n",
            "conv2d_1 (Conv2D)            (None, 29, 29, 32)        4640      \n",
            "_________________________________________________________________\n",
            "max_pooling2d_1 (MaxPooling2 (None, 14, 14, 32)        0         \n",
            "_________________________________________________________________\n",
            "dropout_1 (Dropout)          (None, 14, 14, 32)        0         \n",
            "_________________________________________________________________\n",
            "flatten (Flatten)            (None, 6272)              0         \n",
            "_________________________________________________________________\n",
            "dense (Dense)                (None, 64)                401472    \n",
            "_________________________________________________________________\n",
            "dropout_2 (Dropout)          (None, 64)                0         \n",
            "_________________________________________________________________\n",
            "dense_1 (Dense)              (None, 1)                 65        \n",
            "=================================================================\n",
            "Total params: 406,625\n",
            "Trainable params: 406,625\n",
            "Non-trainable params: 0\n",
            "_________________________________________________________________\n"
          ],
          "name": "stdout"
        }
      ]
    },
    {
      "cell_type": "code",
      "metadata": {
        "id": "pKK9YYtrDxaM"
      },
      "source": [
        "model.compile(optimizer='adam', loss='binary_crossentropy', metrics = ['accuracy'])\r\n",
        "# COMPILING THE MODEL WITH ADAM AS AN OPTIMIZER LOSS AS BINARY CROSS ENTROPY AND EVALUATING THE PERFORMANCE OF THE MODEL THROUGH ACCURACY AS THE METRICS."
      ],
      "execution_count": 8,
      "outputs": []
    },
    {
      "cell_type": "code",
      "metadata": {
        "colab": {
          "base_uri": "https://localhost:8080/"
        },
        "id": "0j9bGhIrEQKN",
        "outputId": "3cd4ac6b-724d-4baa-a0df-2fbbacba57ac"
      },
      "source": [
        "history = model.fit_generator(generator=train_data_generator,steps_per_epoch = len(train_data_generator),epochs = 5,validation_data = validation_data_generator,\r\n",
        "validation_steps = len(validation_data_generator))"
      ],
      "execution_count": 9,
      "outputs": [
        {
          "output_type": "stream",
          "text": [
            "/usr/local/lib/python3.6/dist-packages/tensorflow/python/keras/engine/training.py:1844: UserWarning: `Model.fit_generator` is deprecated and will be removed in a future version. Please use `Model.fit`, which supports generators.\n",
            "  warnings.warn('`Model.fit_generator` is deprecated and '\n"
          ],
          "name": "stderr"
        },
        {
          "output_type": "stream",
          "text": [
            "Epoch 1/5\n",
            "1378/1378 [==============================] - 93s 67ms/step - loss: 0.6248 - accuracy: 0.6326 - val_loss: 0.2725 - val_accuracy: 0.9160\n",
            "Epoch 2/5\n",
            "1378/1378 [==============================] - 95s 69ms/step - loss: 0.2638 - accuracy: 0.9153 - val_loss: 0.1888 - val_accuracy: 0.9319\n",
            "Epoch 3/5\n",
            "1378/1378 [==============================] - 91s 66ms/step - loss: 0.2118 - accuracy: 0.9267 - val_loss: 0.1960 - val_accuracy: 0.9328\n",
            "Epoch 4/5\n",
            "1378/1378 [==============================] - 91s 66ms/step - loss: 0.1996 - accuracy: 0.9372 - val_loss: 0.1893 - val_accuracy: 0.9354\n",
            "Epoch 5/5\n",
            "1378/1378 [==============================] - 91s 66ms/step - loss: 0.1954 - accuracy: 0.9415 - val_loss: 0.1716 - val_accuracy: 0.9410\n"
          ],
          "name": "stdout"
        }
      ]
    },
    {
      "cell_type": "code",
      "metadata": {
        "id": "0AZFgVlMEaFR"
      },
      "source": [
        "def plot_learningCurve(history, epoch):\r\n",
        "  epoch_range = range(1, epoch+1)\r\n",
        "  plt.plot(epoch_range, history.history['accuracy'])\r\n",
        "  plt.plot(epoch_range, history.history['val_accuracy'])\r\n",
        "  plt.title('Model accuracy')\r\n",
        "  plt.ylabel('Accuracy')\r\n",
        "  plt.xlabel('Epoch')\r\n",
        "  plt.legend(['Train', 'Val'], loc='upper left')\r\n",
        "  plt.show()\r\n",
        "\r\n",
        "  # Plot training & validation loss values\r\n",
        "  plt.plot(epoch_range, history.history['loss'])\r\n",
        "  plt.plot(epoch_range, history.history['val_loss'])\r\n",
        "  plt.title('Model loss')\r\n",
        "  plt.ylabel('Loss')\r\n",
        "  plt.xlabel('Epoch')\r\n",
        "  plt.legend(['Train', 'Val'], loc='upper left')\r\n",
        "  plt.show()"
      ],
      "execution_count": 12,
      "outputs": []
    },
    {
      "cell_type": "code",
      "metadata": {
        "colab": {
          "base_uri": "https://localhost:8080/",
          "height": 573
        },
        "id": "Ob4Vn1GXEjdr",
        "outputId": "70bbc911-ec20-45c9-82d6-dccd237d28cf"
      },
      "source": [
        "plot_learningCurve(history, 5) "
      ],
      "execution_count": 15,
      "outputs": [
        {
          "output_type": "display_data",
          "data": {
            "image/png": "[encoded data removed]",
            "text/plain": [
              "<Figure size 432x288 with 1 Axes>"
            ]
          },
          "metadata": {
            "tags": [],
            "needs_background": "light"
          }
        },
        {
          "output_type": "display_data",
          "data": {
            "image/png": "[encoded data removed]",
            "text/plain": [
              "<Figure size 432x288 with 1 Axes>"
            ]
          },
          "metadata": {
            "tags": [],
            "needs_background": "light"
          }
        }
      ]
    },
    {
      "cell_type": "markdown",
      "metadata": {
        "id": "Z6F4KdS9HsQX"
      },
      "source": [
        "We are getting a good accuracy of 94% on the train data and 94% on the validation data on 5 epochs on increasing the number of epochs we may end up in a\r\n",
        "better accuracy. The learning curve for model accuracy increases on each epoch and the loss decreases on the epoch. The training curve and validation follow the same pattern so we can say that it can be the optimum model, but on adding more layers in the model the accuracy may differ."
      ]
    }
  ]
}